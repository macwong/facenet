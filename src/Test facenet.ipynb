{
 "cells": [
  {
   "cell_type": "code",
   "execution_count": 1,
   "metadata": {},
   "outputs": [],
   "source": [
    "from __future__ import absolute_import\n",
    "from __future__ import division\n",
    "from __future__ import print_function\n",
    "\n",
    "import tensorflow as tf\n",
    "import numpy as np\n",
    "import argparse\n",
    "import facenet\n",
    "import lfw\n",
    "import os\n",
    "import sys\n",
    "import math\n",
    "from sklearn import metrics\n",
    "from scipy.optimize import brentq\n",
    "from scipy import interpolate\n"
   ]
  },
  {
   "cell_type": "code",
   "execution_count": 7,
   "metadata": {},
   "outputs": [],
   "source": [
    "# def validate(args):\n",
    "def validate(model = '../data/models/20170512-110547.pb', lfw_dir = '../data/lfw/lfw_mtcnnpy_160', lfw_batch_size = 100, image_size = 160, lfw_pairs = '../data/pairs.txt', lfw_file_ext = 'png', lfw_nrof_folds = 10):\n",
    "  \n",
    "    with tf.Graph().as_default():\n",
    "      \n",
    "        with tf.Session() as sess:\n",
    "            \n",
    "            # Read the file containing the pairs used for testing\n",
    "            pairs = lfw.read_pairs(os.path.expanduser(lfw_pairs))\n",
    "\n",
    "            # Get the paths for the corresponding images\n",
    "            paths, actual_issame = lfw.get_paths(os.path.expanduser(lfw_dir), pairs, lfw_file_ext)\n",
    "\n",
    "            # Load the model\n",
    "            facenet.load_model(model)\n",
    "            \n",
    "            # Get input and output tensors\n",
    "            images_placeholder = tf.get_default_graph().get_tensor_by_name(\"input:0\")\n",
    "            embeddings = tf.get_default_graph().get_tensor_by_name(\"embeddings:0\")\n",
    "            phase_train_placeholder = tf.get_default_graph().get_tensor_by_name(\"phase_train:0\")\n",
    "            \n",
    "            #image_size = images_placeholder.get_shape()[1]  # For some reason this doesn't work for frozen graphs\n",
    "            image_size = image_size\n",
    "            embedding_size = embeddings.get_shape()[1]\n",
    "        \n",
    "            # Run forward pass to calculate embeddings\n",
    "            print('Runnning forward pass on LFW images')\n",
    "            batch_size = lfw_batch_size\n",
    "            nrof_images = len(paths)\n",
    "            nrof_batches = int(math.ceil(1.0*nrof_images / batch_size))\n",
    "            emb_array = np.zeros((nrof_images, embedding_size))\n",
    "            for i in range(nrof_batches):\n",
    "                start_index = i*batch_size\n",
    "                end_index = min((i+1)*batch_size, nrof_images)\n",
    "                paths_batch = paths[start_index:end_index]\n",
    "                images = facenet.load_data(paths_batch, False, False, image_size)\n",
    "                feed_dict = { images_placeholder:images, phase_train_placeholder:False }\n",
    "                emb_array[start_index:end_index,:] = sess.run(embeddings, feed_dict=feed_dict)\n",
    "        \n",
    "            tpr, fpr, accuracy, val, val_std, far = lfw.evaluate(emb_array, \n",
    "                actual_issame, nrof_folds=lfw_nrof_folds)\n",
    "\n",
    "            print('Accuracy: %1.3f+-%1.3f' % (np.mean(accuracy), np.std(accuracy)))\n",
    "            print('Validation rate: %2.5f+-%2.5f @ FAR=%2.5f' % (val, val_std, far))\n",
    "\n",
    "            auc = metrics.auc(fpr, tpr)\n",
    "            print('Area Under Curve (AUC): %1.3f' % auc)\n",
    "            eer = brentq(lambda x: 1. - x - interpolate.interp1d(fpr, tpr)(x), 0., 1.)\n",
    "            print('Equal Error Rate (EER): %1.3f' % eer)\n",
    "            "
   ]
  },
  {
   "cell_type": "code",
   "execution_count": 8,
   "metadata": {},
   "outputs": [
    {
     "name": "stdout",
     "output_type": "stream",
     "text": [
      "Model filename: ../data/models/20170512-110547.pb\n",
      "Runnning forward pass on LFW images\n",
      "Accuracy: 0.992+-0.003\n",
      "Validation rate: 0.97467+-0.01477 @ FAR=0.00133\n",
      "Area Under Curve (AUC): 1.000\n",
      "Equal Error Rate (EER): 0.007\n"
     ]
    }
   ],
   "source": [
    "validate()"
   ]
  },
  {
   "cell_type": "code",
   "execution_count": null,
   "metadata": {
    "collapsed": true
   },
   "outputs": [],
   "source": []
  }
 ],
 "metadata": {
  "kernelspec": {
   "display_name": "Python 3",
   "language": "python",
   "name": "python3"
  },
  "language_info": {
   "codemirror_mode": {
    "name": "ipython",
    "version": 3
   },
   "file_extension": ".py",
   "mimetype": "text/x-python",
   "name": "python",
   "nbconvert_exporter": "python",
   "pygments_lexer": "ipython3",
   "version": "3.5.2"
  }
 },
 "nbformat": 4,
 "nbformat_minor": 2
}
