{
 "cells": [
  {
   "cell_type": "code",
   "execution_count": 1,
   "metadata": {
    "collapsed": true
   },
   "outputs": [],
   "source": [
    "import os"
   ]
  },
  {
   "cell_type": "code",
   "execution_count": 66,
   "metadata": {},
   "outputs": [
    {
     "name": "stdout",
     "output_type": "stream",
     "text": [
      "Check if directory exists...\n",
      "Exists... bombing out\n"
     ]
    }
   ],
   "source": [
    "def create_train_test_data():\n",
    "    rootdir = '..\\data\\lfw\\lfw_mtcnnpy_160'\n",
    "    trainImageCount = 2\n",
    "    testImageCount = 1\n",
    "    totalImageCount = trainImageCount + testImageCount\n",
    "    newdir = '../data/newdir_train' + str(trainImageCount) + '_test' + str(testImageCount)\n",
    "    totalPeople = 100\n",
    "\n",
    "    directories = os.listdir(rootdir)\n",
    "\n",
    "    personGroupCount = 0\n",
    "\n",
    "    print('Check if directory exists...')\n",
    "    if os.path.exists(newdir):\n",
    "        print(\"Exists... bombing out\")\n",
    "        return\n",
    "    else:\n",
    "        print('Creating directory...')\n",
    "        os.makedirs(newdir)\n",
    "\n",
    "\n",
    "    print('Iterating through photos')\n",
    "\n",
    "    for d in directories:    \n",
    "        subdir = os.path.join(rootdir, d)\n",
    "\n",
    "        if os.path.isdir(subdir):\n",
    "            files = os.listdir(subdir)\n",
    "\n",
    "            if len(files) >= totalImageCount:\n",
    "                personGroupCount += 1\n",
    "                print('Found valid PersonGroup:', d)\n",
    "                fileCount = 0\n",
    "\n",
    "                for f in files:\n",
    "                    fileCount += 1\n",
    "\n",
    "                    if fileCount == totalImageCount:\n",
    "                        print('test data')\n",
    "                        print(f)\n",
    "                    elif fileCount < totalImageCount:\n",
    "                        print('train data')\n",
    "                        print(f)\n",
    "                    else:\n",
    "                        break\n",
    "\n",
    "    #                     fileloc = os.path.join(subdir, f)\n",
    "\n",
    "    #                     if os.path.isfile(fileloc):\n",
    "    #                         print(f)\n",
    "\n",
    "                if personGroupCount >= totalPeople:\n",
    "                    break\n",
    "\n",
    "    print('Total PersonGroup:', personGroupCount)\n",
    "    \n",
    "    return\n",
    "\n",
    "create_train_test_data()"
   ]
  },
  {
   "cell_type": "code",
   "execution_count": null,
   "metadata": {
    "collapsed": true
   },
   "outputs": [],
   "source": []
  }
 ],
 "metadata": {
  "kernelspec": {
   "display_name": "Python 3",
   "language": "python",
   "name": "python3"
  },
  "language_info": {
   "codemirror_mode": {
    "name": "ipython",
    "version": 3
   },
   "file_extension": ".py",
   "mimetype": "text/x-python",
   "name": "python",
   "nbconvert_exporter": "python",
   "pygments_lexer": "ipython3",
   "version": "3.5.2"
  }
 },
 "nbformat": 4,
 "nbformat_minor": 2
}
